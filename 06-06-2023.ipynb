{
 "cells": [
  {
   "cell_type": "code",
   "execution_count": 1,
   "id": "74b37aae",
   "metadata": {},
   "outputs": [],
   "source": [
    "import pandas as pd\n",
    "import numpy as np"
   ]
  },
  {
   "cell_type": "code",
   "execution_count": 7,
   "id": "5362f3d6",
   "metadata": {},
   "outputs": [],
   "source": [
    "dict1 = {'W.E':[2,4,5,6,7,8],\n",
    "        'Age' : [28,25,32,45,33,32],\n",
    "        'salary':[30000,40000,50000,60000,70000,80000],\n",
    "        'distance':[10,12,23,32,15,17],\n",
    "        'expected_salary':[40000,50000,60000,70000,80000,90000]}"
   ]
  },
  {
   "cell_type": "code",
   "execution_count": 8,
   "id": "c421e4f0",
   "metadata": {},
   "outputs": [
    {
     "data": {
      "text/html": [
       "<div>\n",
       "<style scoped>\n",
       "    .dataframe tbody tr th:only-of-type {\n",
       "        vertical-align: middle;\n",
       "    }\n",
       "\n",
       "    .dataframe tbody tr th {\n",
       "        vertical-align: top;\n",
       "    }\n",
       "\n",
       "    .dataframe thead th {\n",
       "        text-align: right;\n",
       "    }\n",
       "</style>\n",
       "<table border=\"1\" class=\"dataframe\">\n",
       "  <thead>\n",
       "    <tr style=\"text-align: right;\">\n",
       "      <th></th>\n",
       "      <th>W.E</th>\n",
       "      <th>Age</th>\n",
       "      <th>salary</th>\n",
       "      <th>distance</th>\n",
       "      <th>expected_salary</th>\n",
       "    </tr>\n",
       "  </thead>\n",
       "  <tbody>\n",
       "    <tr>\n",
       "      <th>0</th>\n",
       "      <td>2</td>\n",
       "      <td>28</td>\n",
       "      <td>30000</td>\n",
       "      <td>10</td>\n",
       "      <td>40000</td>\n",
       "    </tr>\n",
       "    <tr>\n",
       "      <th>1</th>\n",
       "      <td>4</td>\n",
       "      <td>25</td>\n",
       "      <td>40000</td>\n",
       "      <td>12</td>\n",
       "      <td>50000</td>\n",
       "    </tr>\n",
       "    <tr>\n",
       "      <th>2</th>\n",
       "      <td>5</td>\n",
       "      <td>32</td>\n",
       "      <td>50000</td>\n",
       "      <td>23</td>\n",
       "      <td>60000</td>\n",
       "    </tr>\n",
       "    <tr>\n",
       "      <th>3</th>\n",
       "      <td>6</td>\n",
       "      <td>45</td>\n",
       "      <td>60000</td>\n",
       "      <td>32</td>\n",
       "      <td>70000</td>\n",
       "    </tr>\n",
       "    <tr>\n",
       "      <th>4</th>\n",
       "      <td>7</td>\n",
       "      <td>33</td>\n",
       "      <td>70000</td>\n",
       "      <td>15</td>\n",
       "      <td>80000</td>\n",
       "    </tr>\n",
       "    <tr>\n",
       "      <th>5</th>\n",
       "      <td>8</td>\n",
       "      <td>32</td>\n",
       "      <td>80000</td>\n",
       "      <td>17</td>\n",
       "      <td>90000</td>\n",
       "    </tr>\n",
       "  </tbody>\n",
       "</table>\n",
       "</div>"
      ],
      "text/plain": [
       "   W.E  Age  salary  distance  expected_salary\n",
       "0    2   28   30000        10            40000\n",
       "1    4   25   40000        12            50000\n",
       "2    5   32   50000        23            60000\n",
       "3    6   45   60000        32            70000\n",
       "4    7   33   70000        15            80000\n",
       "5    8   32   80000        17            90000"
      ]
     },
     "execution_count": 8,
     "metadata": {},
     "output_type": "execute_result"
    }
   ],
   "source": [
    "sample = pd.DataFrame(dict1)\n",
    "sample"
   ]
  },
  {
   "cell_type": "markdown",
   "id": "cbad877c",
   "metadata": {},
   "source": [
    "### scale"
   ]
  },
  {
   "cell_type": "code",
   "execution_count": 9,
   "id": "326ec440",
   "metadata": {},
   "outputs": [],
   "source": [
    "from sklearn.preprocessing import scale"
   ]
  },
  {
   "cell_type": "code",
   "execution_count": 10,
   "id": "b46b3132",
   "metadata": {},
   "outputs": [
    {
     "data": {
      "text/plain": [
       "array([[-1.69030851, -0.72134777, -1.46385011, -1.09980534, -1.46385011],\n",
       "       [-0.6761234 , -1.20224629, -0.87831007, -0.83046526, -0.87831007],\n",
       "       [-0.16903085, -0.08014975, -0.29277002,  0.6509052 , -0.29277002],\n",
       "       [ 0.3380617 ,  2.00374382,  0.29277002,  1.86293558,  0.29277002],\n",
       "       [ 0.84515425,  0.08014975,  0.87831007, -0.42645513,  0.87831007],\n",
       "       [ 1.35224681, -0.08014975,  1.46385011, -0.15711505,  1.46385011]])"
      ]
     },
     "execution_count": 10,
     "metadata": {},
     "output_type": "execute_result"
    }
   ],
   "source": [
    "scaled_data = scale(sample)\n",
    "scaled_data"
   ]
  },
  {
   "cell_type": "code",
   "execution_count": 11,
   "id": "119cd085",
   "metadata": {},
   "outputs": [
    {
     "data": {
      "text/html": [
       "<div>\n",
       "<style scoped>\n",
       "    .dataframe tbody tr th:only-of-type {\n",
       "        vertical-align: middle;\n",
       "    }\n",
       "\n",
       "    .dataframe tbody tr th {\n",
       "        vertical-align: top;\n",
       "    }\n",
       "\n",
       "    .dataframe thead th {\n",
       "        text-align: right;\n",
       "    }\n",
       "</style>\n",
       "<table border=\"1\" class=\"dataframe\">\n",
       "  <thead>\n",
       "    <tr style=\"text-align: right;\">\n",
       "      <th></th>\n",
       "      <th>0</th>\n",
       "      <th>1</th>\n",
       "      <th>2</th>\n",
       "      <th>3</th>\n",
       "      <th>4</th>\n",
       "    </tr>\n",
       "  </thead>\n",
       "  <tbody>\n",
       "    <tr>\n",
       "      <th>0</th>\n",
       "      <td>-1.690309</td>\n",
       "      <td>-0.721348</td>\n",
       "      <td>-1.46385</td>\n",
       "      <td>-1.099805</td>\n",
       "      <td>-1.46385</td>\n",
       "    </tr>\n",
       "    <tr>\n",
       "      <th>1</th>\n",
       "      <td>-0.676123</td>\n",
       "      <td>-1.202246</td>\n",
       "      <td>-0.87831</td>\n",
       "      <td>-0.830465</td>\n",
       "      <td>-0.87831</td>\n",
       "    </tr>\n",
       "    <tr>\n",
       "      <th>2</th>\n",
       "      <td>-0.169031</td>\n",
       "      <td>-0.080150</td>\n",
       "      <td>-0.29277</td>\n",
       "      <td>0.650905</td>\n",
       "      <td>-0.29277</td>\n",
       "    </tr>\n",
       "    <tr>\n",
       "      <th>3</th>\n",
       "      <td>0.338062</td>\n",
       "      <td>2.003744</td>\n",
       "      <td>0.29277</td>\n",
       "      <td>1.862936</td>\n",
       "      <td>0.29277</td>\n",
       "    </tr>\n",
       "    <tr>\n",
       "      <th>4</th>\n",
       "      <td>0.845154</td>\n",
       "      <td>0.080150</td>\n",
       "      <td>0.87831</td>\n",
       "      <td>-0.426455</td>\n",
       "      <td>0.87831</td>\n",
       "    </tr>\n",
       "    <tr>\n",
       "      <th>5</th>\n",
       "      <td>1.352247</td>\n",
       "      <td>-0.080150</td>\n",
       "      <td>1.46385</td>\n",
       "      <td>-0.157115</td>\n",
       "      <td>1.46385</td>\n",
       "    </tr>\n",
       "  </tbody>\n",
       "</table>\n",
       "</div>"
      ],
      "text/plain": [
       "          0         1        2         3        4\n",
       "0 -1.690309 -0.721348 -1.46385 -1.099805 -1.46385\n",
       "1 -0.676123 -1.202246 -0.87831 -0.830465 -0.87831\n",
       "2 -0.169031 -0.080150 -0.29277  0.650905 -0.29277\n",
       "3  0.338062  2.003744  0.29277  1.862936  0.29277\n",
       "4  0.845154  0.080150  0.87831 -0.426455  0.87831\n",
       "5  1.352247 -0.080150  1.46385 -0.157115  1.46385"
      ]
     },
     "execution_count": 11,
     "metadata": {},
     "output_type": "execute_result"
    }
   ],
   "source": [
    "scaled_data = pd.DataFrame(scaled_data)\n",
    "scaled_data"
   ]
  },
  {
   "cell_type": "code",
   "execution_count": 12,
   "id": "4f0c7b8d",
   "metadata": {},
   "outputs": [],
   "source": [
    "scaled_data.columns = sample.columns"
   ]
  },
  {
   "cell_type": "code",
   "execution_count": 13,
   "id": "dbb75989",
   "metadata": {},
   "outputs": [
    {
     "data": {
      "text/html": [
       "<div>\n",
       "<style scoped>\n",
       "    .dataframe tbody tr th:only-of-type {\n",
       "        vertical-align: middle;\n",
       "    }\n",
       "\n",
       "    .dataframe tbody tr th {\n",
       "        vertical-align: top;\n",
       "    }\n",
       "\n",
       "    .dataframe thead th {\n",
       "        text-align: right;\n",
       "    }\n",
       "</style>\n",
       "<table border=\"1\" class=\"dataframe\">\n",
       "  <thead>\n",
       "    <tr style=\"text-align: right;\">\n",
       "      <th></th>\n",
       "      <th>W.E</th>\n",
       "      <th>Age</th>\n",
       "      <th>salary</th>\n",
       "      <th>distance</th>\n",
       "      <th>expected_salary</th>\n",
       "    </tr>\n",
       "  </thead>\n",
       "  <tbody>\n",
       "    <tr>\n",
       "      <th>0</th>\n",
       "      <td>-1.690309</td>\n",
       "      <td>-0.721348</td>\n",
       "      <td>-1.46385</td>\n",
       "      <td>-1.099805</td>\n",
       "      <td>-1.46385</td>\n",
       "    </tr>\n",
       "    <tr>\n",
       "      <th>1</th>\n",
       "      <td>-0.676123</td>\n",
       "      <td>-1.202246</td>\n",
       "      <td>-0.87831</td>\n",
       "      <td>-0.830465</td>\n",
       "      <td>-0.87831</td>\n",
       "    </tr>\n",
       "    <tr>\n",
       "      <th>2</th>\n",
       "      <td>-0.169031</td>\n",
       "      <td>-0.080150</td>\n",
       "      <td>-0.29277</td>\n",
       "      <td>0.650905</td>\n",
       "      <td>-0.29277</td>\n",
       "    </tr>\n",
       "    <tr>\n",
       "      <th>3</th>\n",
       "      <td>0.338062</td>\n",
       "      <td>2.003744</td>\n",
       "      <td>0.29277</td>\n",
       "      <td>1.862936</td>\n",
       "      <td>0.29277</td>\n",
       "    </tr>\n",
       "    <tr>\n",
       "      <th>4</th>\n",
       "      <td>0.845154</td>\n",
       "      <td>0.080150</td>\n",
       "      <td>0.87831</td>\n",
       "      <td>-0.426455</td>\n",
       "      <td>0.87831</td>\n",
       "    </tr>\n",
       "    <tr>\n",
       "      <th>5</th>\n",
       "      <td>1.352247</td>\n",
       "      <td>-0.080150</td>\n",
       "      <td>1.46385</td>\n",
       "      <td>-0.157115</td>\n",
       "      <td>1.46385</td>\n",
       "    </tr>\n",
       "  </tbody>\n",
       "</table>\n",
       "</div>"
      ],
      "text/plain": [
       "        W.E       Age   salary  distance  expected_salary\n",
       "0 -1.690309 -0.721348 -1.46385 -1.099805         -1.46385\n",
       "1 -0.676123 -1.202246 -0.87831 -0.830465         -0.87831\n",
       "2 -0.169031 -0.080150 -0.29277  0.650905         -0.29277\n",
       "3  0.338062  2.003744  0.29277  1.862936          0.29277\n",
       "4  0.845154  0.080150  0.87831 -0.426455          0.87831\n",
       "5  1.352247 -0.080150  1.46385 -0.157115          1.46385"
      ]
     },
     "execution_count": 13,
     "metadata": {},
     "output_type": "execute_result"
    }
   ],
   "source": [
    "scaled_data"
   ]
  },
  {
   "cell_type": "markdown",
   "id": "af509592",
   "metadata": {},
   "source": [
    "###  StandardScaler"
   ]
  },
  {
   "cell_type": "code",
   "execution_count": 14,
   "id": "b6b2957f",
   "metadata": {},
   "outputs": [],
   "source": [
    "from sklearn.preprocessing import StandardScaler"
   ]
  },
  {
   "cell_type": "code",
   "execution_count": 15,
   "id": "d661af4e",
   "metadata": {},
   "outputs": [],
   "source": [
    "df = sample.copy() "
   ]
  },
  {
   "cell_type": "code",
   "execution_count": 16,
   "id": "bd97708b",
   "metadata": {
    "collapsed": true
   },
   "outputs": [
    {
     "data": {
      "text/plain": [
       "array([[-1.69030851, -0.72134777, -1.46385011, -1.09980534, -1.46385011],\n",
       "       [-0.6761234 , -1.20224629, -0.87831007, -0.83046526, -0.87831007],\n",
       "       [-0.16903085, -0.08014975, -0.29277002,  0.6509052 , -0.29277002],\n",
       "       [ 0.3380617 ,  2.00374382,  0.29277002,  1.86293558,  0.29277002],\n",
       "       [ 0.84515425,  0.08014975,  0.87831007, -0.42645513,  0.87831007],\n",
       "       [ 1.35224681, -0.08014975,  1.46385011, -0.15711505,  1.46385011]])"
      ]
     },
     "execution_count": 16,
     "metadata": {},
     "output_type": "execute_result"
    }
   ],
   "source": [
    "sc = StandardScaler()\n",
    "df = sc.fit_transform(df)\n",
    "df"
   ]
  },
  {
   "cell_type": "code",
   "execution_count": 17,
   "id": "6752fb1e",
   "metadata": {
    "collapsed": true
   },
   "outputs": [
    {
     "data": {
      "text/html": [
       "<div>\n",
       "<style scoped>\n",
       "    .dataframe tbody tr th:only-of-type {\n",
       "        vertical-align: middle;\n",
       "    }\n",
       "\n",
       "    .dataframe tbody tr th {\n",
       "        vertical-align: top;\n",
       "    }\n",
       "\n",
       "    .dataframe thead th {\n",
       "        text-align: right;\n",
       "    }\n",
       "</style>\n",
       "<table border=\"1\" class=\"dataframe\">\n",
       "  <thead>\n",
       "    <tr style=\"text-align: right;\">\n",
       "      <th></th>\n",
       "      <th>0</th>\n",
       "      <th>1</th>\n",
       "      <th>2</th>\n",
       "      <th>3</th>\n",
       "      <th>4</th>\n",
       "    </tr>\n",
       "  </thead>\n",
       "  <tbody>\n",
       "    <tr>\n",
       "      <th>0</th>\n",
       "      <td>-1.690309</td>\n",
       "      <td>-0.721348</td>\n",
       "      <td>-1.46385</td>\n",
       "      <td>-1.099805</td>\n",
       "      <td>-1.46385</td>\n",
       "    </tr>\n",
       "    <tr>\n",
       "      <th>1</th>\n",
       "      <td>-0.676123</td>\n",
       "      <td>-1.202246</td>\n",
       "      <td>-0.87831</td>\n",
       "      <td>-0.830465</td>\n",
       "      <td>-0.87831</td>\n",
       "    </tr>\n",
       "    <tr>\n",
       "      <th>2</th>\n",
       "      <td>-0.169031</td>\n",
       "      <td>-0.080150</td>\n",
       "      <td>-0.29277</td>\n",
       "      <td>0.650905</td>\n",
       "      <td>-0.29277</td>\n",
       "    </tr>\n",
       "    <tr>\n",
       "      <th>3</th>\n",
       "      <td>0.338062</td>\n",
       "      <td>2.003744</td>\n",
       "      <td>0.29277</td>\n",
       "      <td>1.862936</td>\n",
       "      <td>0.29277</td>\n",
       "    </tr>\n",
       "    <tr>\n",
       "      <th>4</th>\n",
       "      <td>0.845154</td>\n",
       "      <td>0.080150</td>\n",
       "      <td>0.87831</td>\n",
       "      <td>-0.426455</td>\n",
       "      <td>0.87831</td>\n",
       "    </tr>\n",
       "    <tr>\n",
       "      <th>5</th>\n",
       "      <td>1.352247</td>\n",
       "      <td>-0.080150</td>\n",
       "      <td>1.46385</td>\n",
       "      <td>-0.157115</td>\n",
       "      <td>1.46385</td>\n",
       "    </tr>\n",
       "  </tbody>\n",
       "</table>\n",
       "</div>"
      ],
      "text/plain": [
       "          0         1        2         3        4\n",
       "0 -1.690309 -0.721348 -1.46385 -1.099805 -1.46385\n",
       "1 -0.676123 -1.202246 -0.87831 -0.830465 -0.87831\n",
       "2 -0.169031 -0.080150 -0.29277  0.650905 -0.29277\n",
       "3  0.338062  2.003744  0.29277  1.862936  0.29277\n",
       "4  0.845154  0.080150  0.87831 -0.426455  0.87831\n",
       "5  1.352247 -0.080150  1.46385 -0.157115  1.46385"
      ]
     },
     "execution_count": 17,
     "metadata": {},
     "output_type": "execute_result"
    }
   ],
   "source": [
    "df = pd.DataFrame(df)\n",
    "df"
   ]
  },
  {
   "cell_type": "markdown",
   "id": "f79f4c67",
   "metadata": {},
   "source": [
    "### Min - Max scaler"
   ]
  },
  {
   "cell_type": "code",
   "execution_count": 18,
   "id": "45e880b5",
   "metadata": {},
   "outputs": [],
   "source": [
    "from sklearn.preprocessing import MinMaxScaler"
   ]
  },
  {
   "cell_type": "code",
   "execution_count": 19,
   "id": "acc8f701",
   "metadata": {},
   "outputs": [],
   "source": [
    "df1 = sample.copy()"
   ]
  },
  {
   "cell_type": "code",
   "execution_count": 21,
   "id": "7368f41b",
   "metadata": {
    "collapsed": true
   },
   "outputs": [
    {
     "data": {
      "text/plain": [
       "array([[0.        , 0.15      , 0.        , 0.        , 0.        ],\n",
       "       [0.33333333, 0.        , 0.2       , 0.09090909, 0.2       ],\n",
       "       [0.5       , 0.35      , 0.4       , 0.59090909, 0.4       ],\n",
       "       [0.66666667, 1.        , 0.6       , 1.        , 0.6       ],\n",
       "       [0.83333333, 0.4       , 0.8       , 0.22727273, 0.8       ],\n",
       "       [1.        , 0.35      , 1.        , 0.31818182, 1.        ]])"
      ]
     },
     "execution_count": 21,
     "metadata": {},
     "output_type": "execute_result"
    }
   ],
   "source": [
    "mms = MinMaxScaler()\n",
    "df1 = mms.fit_transform(df1)\n",
    "df1"
   ]
  },
  {
   "cell_type": "code",
   "execution_count": 22,
   "id": "2e1e7eb9",
   "metadata": {
    "collapsed": true
   },
   "outputs": [
    {
     "data": {
      "text/html": [
       "<div>\n",
       "<style scoped>\n",
       "    .dataframe tbody tr th:only-of-type {\n",
       "        vertical-align: middle;\n",
       "    }\n",
       "\n",
       "    .dataframe tbody tr th {\n",
       "        vertical-align: top;\n",
       "    }\n",
       "\n",
       "    .dataframe thead th {\n",
       "        text-align: right;\n",
       "    }\n",
       "</style>\n",
       "<table border=\"1\" class=\"dataframe\">\n",
       "  <thead>\n",
       "    <tr style=\"text-align: right;\">\n",
       "      <th></th>\n",
       "      <th>0</th>\n",
       "      <th>1</th>\n",
       "      <th>2</th>\n",
       "      <th>3</th>\n",
       "      <th>4</th>\n",
       "    </tr>\n",
       "  </thead>\n",
       "  <tbody>\n",
       "    <tr>\n",
       "      <th>0</th>\n",
       "      <td>0.000000</td>\n",
       "      <td>0.15</td>\n",
       "      <td>0.0</td>\n",
       "      <td>0.000000</td>\n",
       "      <td>0.0</td>\n",
       "    </tr>\n",
       "    <tr>\n",
       "      <th>1</th>\n",
       "      <td>0.333333</td>\n",
       "      <td>0.00</td>\n",
       "      <td>0.2</td>\n",
       "      <td>0.090909</td>\n",
       "      <td>0.2</td>\n",
       "    </tr>\n",
       "    <tr>\n",
       "      <th>2</th>\n",
       "      <td>0.500000</td>\n",
       "      <td>0.35</td>\n",
       "      <td>0.4</td>\n",
       "      <td>0.590909</td>\n",
       "      <td>0.4</td>\n",
       "    </tr>\n",
       "    <tr>\n",
       "      <th>3</th>\n",
       "      <td>0.666667</td>\n",
       "      <td>1.00</td>\n",
       "      <td>0.6</td>\n",
       "      <td>1.000000</td>\n",
       "      <td>0.6</td>\n",
       "    </tr>\n",
       "    <tr>\n",
       "      <th>4</th>\n",
       "      <td>0.833333</td>\n",
       "      <td>0.40</td>\n",
       "      <td>0.8</td>\n",
       "      <td>0.227273</td>\n",
       "      <td>0.8</td>\n",
       "    </tr>\n",
       "    <tr>\n",
       "      <th>5</th>\n",
       "      <td>1.000000</td>\n",
       "      <td>0.35</td>\n",
       "      <td>1.0</td>\n",
       "      <td>0.318182</td>\n",
       "      <td>1.0</td>\n",
       "    </tr>\n",
       "  </tbody>\n",
       "</table>\n",
       "</div>"
      ],
      "text/plain": [
       "          0     1    2         3    4\n",
       "0  0.000000  0.15  0.0  0.000000  0.0\n",
       "1  0.333333  0.00  0.2  0.090909  0.2\n",
       "2  0.500000  0.35  0.4  0.590909  0.4\n",
       "3  0.666667  1.00  0.6  1.000000  0.6\n",
       "4  0.833333  0.40  0.8  0.227273  0.8\n",
       "5  1.000000  0.35  1.0  0.318182  1.0"
      ]
     },
     "execution_count": 22,
     "metadata": {},
     "output_type": "execute_result"
    }
   ],
   "source": [
    "df1 = pd.DataFrame(df1)\n",
    "df1"
   ]
  },
  {
   "cell_type": "markdown",
   "id": "489e7da8",
   "metadata": {},
   "source": [
    "### Outlier detect and removal "
   ]
  },
  {
   "cell_type": "code",
   "execution_count": null,
   "id": "28e47ae5",
   "metadata": {},
   "outputs": [],
   "source": []
  }
 ],
 "metadata": {
  "kernelspec": {
   "display_name": "Python 3 (ipykernel)",
   "language": "python",
   "name": "python3"
  },
  "language_info": {
   "codemirror_mode": {
    "name": "ipython",
    "version": 3
   },
   "file_extension": ".py",
   "mimetype": "text/x-python",
   "name": "python",
   "nbconvert_exporter": "python",
   "pygments_lexer": "ipython3",
   "version": "3.9.13"
  }
 },
 "nbformat": 4,
 "nbformat_minor": 5
}
