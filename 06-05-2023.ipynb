{
 "cells": [
  {
   "cell_type": "code",
   "execution_count": 4,
   "id": "9cf1de75",
   "metadata": {},
   "outputs": [
    {
     "name": "stdout",
     "output_type": "stream",
     "text": [
      "False\n",
      "True\n"
     ]
    }
   ],
   "source": [
    "s = \"123jupyter notebook ju\"\n",
    "print(s.startswith(\"ju\"))\n",
    "print(s.endswith(\"ju\"))"
   ]
  },
  {
   "cell_type": "code",
   "execution_count": 7,
   "id": "9a4c240d",
   "metadata": {},
   "outputs": [
    {
     "ename": "ValueError",
     "evalue": "substring not found",
     "output_type": "error",
     "traceback": [
      "\u001b[1;31m---------------------------------------------------------------------------\u001b[0m",
      "\u001b[1;31mValueError\u001b[0m                                Traceback (most recent call last)",
      "\u001b[1;32m~\\AppData\\Local\\Temp\\ipykernel_12856\\551717312.py\u001b[0m in \u001b[0;36m<module>\u001b[1;34m\u001b[0m\n\u001b[1;32m----> 1\u001b[1;33m \u001b[0ms\u001b[0m\u001b[1;33m.\u001b[0m\u001b[0mindex\u001b[0m\u001b[1;33m(\u001b[0m\u001b[1;34m\"z\"\u001b[0m\u001b[1;33m)\u001b[0m\u001b[1;33m\u001b[0m\u001b[1;33m\u001b[0m\u001b[0m\n\u001b[0m",
      "\u001b[1;31mValueError\u001b[0m: substring not found"
     ]
    }
   ],
   "source": [
    "s.index(\"z\")"
   ]
  },
  {
   "cell_type": "code",
   "execution_count": 8,
   "id": "5e11c8dd",
   "metadata": {},
   "outputs": [
    {
     "data": {
      "text/plain": [
       "-1"
      ]
     },
     "execution_count": 8,
     "metadata": {},
     "output_type": "execute_result"
    }
   ],
   "source": [
    "s.find(\"z\")"
   ]
  },
  {
   "cell_type": "code",
   "execution_count": 11,
   "id": "a56b6616",
   "metadata": {},
   "outputs": [
    {
     "data": {
      "text/plain": [
       "'123abcABC'"
      ]
     },
     "execution_count": 11,
     "metadata": {},
     "output_type": "execute_result"
    }
   ],
   "source": [
    "#join() ==> joins strings\n",
    "s = \"abc\"\n",
    "s1 = [\"123\",\"ABC\"]\n",
    "s.join(s1)"
   ]
  },
  {
   "cell_type": "code",
   "execution_count": 21,
   "id": "ba76023c",
   "metadata": {},
   "outputs": [
    {
     "data": {
      "text/plain": [
       "'cloud vision technology'"
      ]
     },
     "execution_count": 21,
     "metadata": {},
     "output_type": "execute_result"
    }
   ],
   "source": [
    "s2 = \"cloud\"\n",
    "s3 = \"vision\"\n",
    "s4 = \"technology\"\n",
    "s = \"{} {} {}\".format(s2,s3,s4)\n",
    "s"
   ]
  },
  {
   "cell_type": "code",
   "execution_count": 24,
   "id": "8ae62f22",
   "metadata": {},
   "outputs": [
    {
     "name": "stdout",
     "output_type": "stream",
     "text": [
      "Enter your name:preeti\n",
      "Enter your age:12\n",
      "Enter your per:23.5\n",
      "User Details:Name is preeti age is 12 and percentage is 23.5\n",
      "User Details:Name is preeti age is 12 and percentage is 23.5\n",
      "User Details:Name is preeti.preeti's' age is 12.preeti's percentage is 23.5\n"
     ]
    }
   ],
   "source": [
    "#name,age and per \n",
    "name = input(\"Enter your name:\") \n",
    "age = int(input(\"Enter your age:\"))\n",
    "per = float(input(\"Enter your per:\"))\n",
    "print(\"User Details:Name is\",name,\"age is\",age,\"and percentage is\",per)\n",
    "print(\"User Details:Name is {} age is {} and percentage is {}\".format(name,age,per))\n",
    "print(\"User Details:Name is {0}.{0}'s' age is {1}.{0}'s percentage is {2}\".format(name,age,per))"
   ]
  },
  {
   "cell_type": "code",
   "execution_count": 25,
   "id": "f8b602cb",
   "metadata": {},
   "outputs": [
    {
     "data": {
      "text/plain": [
       "['abc', 'ABc']"
      ]
     },
     "execution_count": 25,
     "metadata": {},
     "output_type": "execute_result"
    }
   ],
   "source": [
    "\"abc ABc\".split()"
   ]
  },
  {
   "cell_type": "code",
   "execution_count": 29,
   "id": "8c1481ae",
   "metadata": {},
   "outputs": [
    {
     "name": "stdout",
     "output_type": "stream",
     "text": [
      "Enter your name,age and perasd 22 12.5\n",
      "User Details:Name is asd age is 22 and percentage is 12.5\n",
      "<class 'str'> <class 'int'> <class 'float'>\n"
     ]
    }
   ],
   "source": [
    "name,age,per = input(\"Enter your name,age and per\").split()\n",
    "age = int(age)\n",
    "per = float(per)\n",
    "print(\"User Details:Name is\",name,\"age is\",age,\"and percentage is\",per)\n",
    "print(type(name),type(age),type(per))"
   ]
  },
  {
   "cell_type": "code",
   "execution_count": 33,
   "id": "4cd28176",
   "metadata": {},
   "outputs": [],
   "source": [
    "s = \"print statment\"\n",
    "s = s.replace(\" \",\"1234\")"
   ]
  },
  {
   "cell_type": "code",
   "execution_count": 34,
   "id": "0bf6299e",
   "metadata": {},
   "outputs": [
    {
     "data": {
      "text/plain": [
       "'print1234statment'"
      ]
     },
     "execution_count": 34,
     "metadata": {},
     "output_type": "execute_result"
    }
   ],
   "source": [
    "s"
   ]
  },
  {
   "cell_type": "code",
   "execution_count": null,
   "id": "3d645f71",
   "metadata": {},
   "outputs": [],
   "source": []
  }
 ],
 "metadata": {
  "kernelspec": {
   "display_name": "Python 3 (ipykernel)",
   "language": "python",
   "name": "python3"
  },
  "language_info": {
   "codemirror_mode": {
    "name": "ipython",
    "version": 3
   },
   "file_extension": ".py",
   "mimetype": "text/x-python",
   "name": "python",
   "nbconvert_exporter": "python",
   "pygments_lexer": "ipython3",
   "version": "3.9.13"
  }
 },
 "nbformat": 4,
 "nbformat_minor": 5
}
