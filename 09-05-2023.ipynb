{
 "cells": [
  {
   "cell_type": "markdown",
   "id": "f7ee3d76",
   "metadata": {},
   "source": [
    "### list comprehensions"
   ]
  },
  {
   "cell_type": "code",
   "execution_count": 3,
   "id": "0948c37c",
   "metadata": {},
   "outputs": [
    {
     "name": "stdout",
     "output_type": "stream",
     "text": [
      "[[0, 1, 2], [0, 1, 2], [0, 1, 2]]\n"
     ]
    }
   ],
   "source": [
    "#Traditional way ==> i and j \n",
    "out = []\n",
    "for i in range(0,3):\n",
    "    inner = []\n",
    "    for j in range(0,3):\n",
    "        inner.append(j)\n",
    "    out.append(inner)\n",
    "print(out)   "
   ]
  },
  {
   "cell_type": "code",
   "execution_count": 4,
   "id": "f4977834",
   "metadata": {},
   "outputs": [
    {
     "data": {
      "text/plain": [
       "[[0, 1, 2], [0, 1, 2], [0, 1, 2]]"
      ]
     },
     "execution_count": 4,
     "metadata": {},
     "output_type": "execute_result"
    }
   ],
   "source": [
    "#using list comprehensions\n",
    "out = [[j for j in range(0,3)] for i in range(0,3)]\n",
    "out"
   ]
  },
  {
   "cell_type": "code",
   "execution_count": 5,
   "id": "c734aac0",
   "metadata": {},
   "outputs": [],
   "source": [
    "l1 = list(range(1,10))"
   ]
  },
  {
   "cell_type": "code",
   "execution_count": 6,
   "id": "5cbad039",
   "metadata": {},
   "outputs": [
    {
     "data": {
      "text/plain": [
       "[1, 2, 3, 4, 5, 6, 7, 8, 9]"
      ]
     },
     "execution_count": 6,
     "metadata": {},
     "output_type": "execute_result"
    }
   ],
   "source": [
    "l1"
   ]
  },
  {
   "cell_type": "code",
   "execution_count": 15,
   "id": "8428ef67",
   "metadata": {},
   "outputs": [
    {
     "data": {
      "text/plain": [
       "[[1, 2, 3], [4, 5, 6], [7, 8, 9]]"
      ]
     },
     "execution_count": 15,
     "metadata": {},
     "output_type": "execute_result"
    }
   ],
   "source": [
    "#Matrix creation\n",
    "out = []\n",
    "for i in range(0,3):\n",
    "    inner = []\n",
    "    for j in range(0,3):\n",
    "        inner.append(l1[i*3 + j])\n",
    "    out.append(inner)\n",
    "out"
   ]
  },
  {
   "cell_type": "code",
   "execution_count": 16,
   "id": "3570b799",
   "metadata": {},
   "outputs": [
    {
     "data": {
      "text/plain": [
       "[[1, 2, 3], [4, 5, 6], [7, 8, 9]]"
      ]
     },
     "execution_count": 16,
     "metadata": {},
     "output_type": "execute_result"
    }
   ],
   "source": [
    "#matrix creation using list comprehensions\n",
    "out = [[l1[i*3 + j] for j in range(0,3)] for i in range(0,3)]\n",
    "out"
   ]
  },
  {
   "cell_type": "code",
   "execution_count": 17,
   "id": "6c753368",
   "metadata": {},
   "outputs": [
    {
     "data": {
      "text/plain": [
       "[1, 2, 3, 4, 5, 6, 7, 8, 9]"
      ]
     },
     "execution_count": 17,
     "metadata": {},
     "output_type": "execute_result"
    }
   ],
   "source": [
    "l1"
   ]
  },
  {
   "cell_type": "code",
   "execution_count": 18,
   "id": "d1615305",
   "metadata": {},
   "outputs": [
    {
     "data": {
      "text/plain": [
       "[4, 8, 12, 16]"
      ]
     },
     "execution_count": 18,
     "metadata": {},
     "output_type": "execute_result"
    }
   ],
   "source": [
    "#Traditional way\n",
    "output = []\n",
    "for i in l1:\n",
    "    if i%2 == 0:\n",
    "        output.append(i*2)\n",
    "output"
   ]
  },
  {
   "cell_type": "code",
   "execution_count": 19,
   "id": "f00b9585",
   "metadata": {},
   "outputs": [
    {
     "data": {
      "text/plain": [
       "[4, 8, 12, 16]"
      ]
     },
     "execution_count": 19,
     "metadata": {},
     "output_type": "execute_result"
    }
   ],
   "source": [
    "#list comprehensions\n",
    "output = [i*2 for i in l1 if i%2 == 0]\n",
    "output"
   ]
  },
  {
   "cell_type": "code",
   "execution_count": 20,
   "id": "b9a5d944",
   "metadata": {},
   "outputs": [],
   "source": [
    "str_list = [\"preeti\",\"vamshi\",\"priyanka\",\"vijay\"]"
   ]
  },
  {
   "cell_type": "code",
   "execution_count": 21,
   "id": "b247ba66",
   "metadata": {},
   "outputs": [
    {
     "data": {
      "text/plain": [
       "['PREETI', 'VAMSHI', 'PRIYANKA', 'VIJAY']"
      ]
     },
     "execution_count": 21,
     "metadata": {},
     "output_type": "execute_result"
    }
   ],
   "source": [
    "#traditional way\n",
    "output = []\n",
    "for i in str_list:\n",
    "    output.append(i.upper())\n",
    "output"
   ]
  },
  {
   "cell_type": "code",
   "execution_count": 22,
   "id": "0e0ebfce",
   "metadata": {},
   "outputs": [],
   "source": [
    "#using list comprehenstions\n",
    "output = [i.upper() for i in str_list]"
   ]
  },
  {
   "cell_type": "code",
   "execution_count": 23,
   "id": "7cf1ec66",
   "metadata": {},
   "outputs": [
    {
     "data": {
      "text/plain": [
       "['PREETI', 'VAMSHI', 'PRIYANKA', 'VIJAY']"
      ]
     },
     "execution_count": 23,
     "metadata": {},
     "output_type": "execute_result"
    }
   ],
   "source": [
    "output"
   ]
  },
  {
   "cell_type": "code",
   "execution_count": 27,
   "id": "13bbac62",
   "metadata": {},
   "outputs": [
    {
     "data": {
      "text/plain": [
       "[['preeti', 6], ['vamshi', 6], ['priyanka', 8], ['vijay', 5]]"
      ]
     },
     "execution_count": 27,
     "metadata": {},
     "output_type": "execute_result"
    }
   ],
   "source": [
    "#traditional way\n",
    "output = []\n",
    "for j in range(len(str_list)):\n",
    "    inner = []\n",
    "    inner.append(str_list[j])\n",
    "    inner.append(len(str_list[j]))\n",
    "    output.append(inner)\n",
    "output"
   ]
  },
  {
   "cell_type": "code",
   "execution_count": 28,
   "id": "70b3c3df",
   "metadata": {},
   "outputs": [
    {
     "data": {
      "text/plain": [
       "[['preeti', 6], ['vamshi', 6], ['priyanka', 8], ['vijay', 5]]"
      ]
     },
     "execution_count": 28,
     "metadata": {},
     "output_type": "execute_result"
    }
   ],
   "source": [
    "out = [[str_list[j],len(str_list[j])] for j in range(len(str_list))]\n",
    "out"
   ]
  },
  {
   "cell_type": "code",
   "execution_count": null,
   "id": "4b60a7f8",
   "metadata": {},
   "outputs": [],
   "source": []
  }
 ],
 "metadata": {
  "kernelspec": {
   "display_name": "Python 3 (ipykernel)",
   "language": "python",
   "name": "python3"
  },
  "language_info": {
   "codemirror_mode": {
    "name": "ipython",
    "version": 3
   },
   "file_extension": ".py",
   "mimetype": "text/x-python",
   "name": "python",
   "nbconvert_exporter": "python",
   "pygments_lexer": "ipython3",
   "version": "3.9.13"
  }
 },
 "nbformat": 4,
 "nbformat_minor": 5
}
