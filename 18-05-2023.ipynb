{
 "cells": [
  {
   "cell_type": "markdown",
   "id": "3b4fe1ab",
   "metadata": {},
   "source": [
    "#### Why use pandas in Python?\n",
    "Pandas has been one of the most commonly used tools for Data Science and Machine learning, which is used for data cleaning and analysis. Here, Pandas is the best tool for handling this real-world messy data."
   ]
  },
  {
   "cell_type": "markdown",
   "id": "fa6b34df",
   "metadata": {},
   "source": [
    "#### What is the difference between pandas and NumPy?\n",
    "The Pandas module mainly works with the tabular data, whereas the NumPy module works with the numerical data. The Pandas provides some sets of powerful tools like DataFrame and Series that mainly used for analyzing the data, whereas in NumPy module offers a powerful object called Array."
   ]
  },
  {
   "cell_type": "code",
   "execution_count": 3,
   "id": "cdfdf2e1",
   "metadata": {},
   "outputs": [
    {
     "name": "stdout",
     "output_type": "stream",
     "text": [
      "[[ 1  2  3  4  5]\n",
      " [ 6  7  8  9 10]]\n"
     ]
    }
   ],
   "source": [
    "import numpy as np\n",
    "list1=list(range(1,11))\n",
    "arr=np.array(list1).reshape(2,5)\n",
    "print(arr)"
   ]
  },
  {
   "cell_type": "code",
   "execution_count": 4,
   "id": "dae9fe22",
   "metadata": {},
   "outputs": [
    {
     "data": {
      "text/plain": [
       "array([[ 1,  2,  3,  4,  5],\n",
       "       [ 6,  7,  8,  9, 10]])"
      ]
     },
     "execution_count": 4,
     "metadata": {},
     "output_type": "execute_result"
    }
   ],
   "source": [
    "arr"
   ]
  },
  {
   "cell_type": "code",
   "execution_count": 5,
   "id": "ecf7ef87",
   "metadata": {},
   "outputs": [
    {
     "data": {
      "text/plain": [
       "array([[ 1,  2,  3,  4,  5],\n",
       "       [ 6,  7,  8,  9, 10]])"
      ]
     },
     "execution_count": 5,
     "metadata": {},
     "output_type": "execute_result"
    }
   ],
   "source": [
    "list1 = [[ 1,  2,  3,  4,  5],[ 6,  7,  8,  9, 10]]\n",
    "arr1 = np.array(list1)\n",
    "arr1"
   ]
  },
  {
   "cell_type": "code",
   "execution_count": 6,
   "id": "4798b2a0",
   "metadata": {},
   "outputs": [
    {
     "data": {
      "text/plain": [
       "[[1, 2, 3, 4, 5], [6, 7, 8, 9, 10]]"
      ]
     },
     "execution_count": 6,
     "metadata": {},
     "output_type": "execute_result"
    }
   ],
   "source": [
    "list1"
   ]
  },
  {
   "cell_type": "code",
   "execution_count": 7,
   "id": "49c27177",
   "metadata": {},
   "outputs": [
    {
     "name": "stdout",
     "output_type": "stream",
     "text": [
      "[[1, 2, 3, 4, 5], [6, 7, 8, 9, 10]]\n"
     ]
    }
   ],
   "source": [
    "print(list1)"
   ]
  },
  {
   "cell_type": "markdown",
   "id": "07651334",
   "metadata": {},
   "source": [
    "### Indexing with boolean array"
   ]
  },
  {
   "cell_type": "code",
   "execution_count": 8,
   "id": "fbe0856a",
   "metadata": {},
   "outputs": [
    {
     "data": {
      "text/plain": [
       "array([[ 1,  2,  3,  4],\n",
       "       [ 5,  6,  7,  8],\n",
       "       [ 9, 10, 11, 12],\n",
       "       [13, 14, 15, 16],\n",
       "       [17, 18, 19, 20]])"
      ]
     },
     "execution_count": 8,
     "metadata": {},
     "output_type": "execute_result"
    }
   ],
   "source": [
    "arr1 = np.arange(1,21).reshape(5,4)\n",
    "arr1"
   ]
  },
  {
   "cell_type": "code",
   "execution_count": 9,
   "id": "0b0f0a9d",
   "metadata": {},
   "outputs": [
    {
     "data": {
      "text/plain": [
       "array([[False,  True, False,  True],\n",
       "       [False,  True, False,  True],\n",
       "       [False,  True, False,  True],\n",
       "       [False,  True, False,  True],\n",
       "       [False,  True, False,  True]])"
      ]
     },
     "execution_count": 9,
     "metadata": {},
     "output_type": "execute_result"
    }
   ],
   "source": [
    "result = (arr1 % 2 == 0)\n",
    "result"
   ]
  },
  {
   "cell_type": "code",
   "execution_count": 10,
   "id": "24b9149d",
   "metadata": {},
   "outputs": [
    {
     "data": {
      "text/plain": [
       "array([ 2,  4,  6,  8, 10, 12, 14, 16, 18, 20])"
      ]
     },
     "execution_count": 10,
     "metadata": {},
     "output_type": "execute_result"
    }
   ],
   "source": [
    "arr1[result]"
   ]
  },
  {
   "cell_type": "markdown",
   "id": "c90bf668",
   "metadata": {},
   "source": [
    "### Applying user-defined function"
   ]
  },
  {
   "cell_type": "code",
   "execution_count": 11,
   "id": "131f8c56",
   "metadata": {},
   "outputs": [
    {
     "data": {
      "text/plain": [
       "[1, 2, 3, 4, 5, 6, 7, 8, 9, 10, 11, 12, 13, 14, 15, 16, 17, 18, 19, 20]"
      ]
     },
     "execution_count": 11,
     "metadata": {},
     "output_type": "execute_result"
    }
   ],
   "source": [
    "list1 = list(range(1,21))\n",
    "list1"
   ]
  },
  {
   "cell_type": "code",
   "execution_count": 13,
   "id": "09cf2c70",
   "metadata": {},
   "outputs": [
    {
     "name": "stdout",
     "output_type": "stream",
     "text": [
      "[0.5, 0.6666666666666666, 0.75, 0.8, 0.8333333333333334, 0.8571428571428571, 0.875, 0.8888888888888888, 0.9, 0.9090909090909091, 0.9166666666666666, 0.9230769230769231, 0.9285714285714286, 0.9333333333333333, 0.9375, 0.9411764705882353, 0.9444444444444444, 0.9473684210526315, 0.95, 0.9523809523809523]\n"
     ]
    }
   ],
   "source": [
    "l = [i/(i+1) for i in list1]\n",
    "print(l)"
   ]
  },
  {
   "cell_type": "code",
   "execution_count": 14,
   "id": "faa59628",
   "metadata": {},
   "outputs": [
    {
     "data": {
      "text/plain": [
       "array([0.5       , 0.66666667, 0.75      , 0.8       , 0.83333333,\n",
       "       0.85714286, 0.875     , 0.88888889, 0.9       , 0.90909091,\n",
       "       0.91666667, 0.92307692, 0.92857143, 0.93333333, 0.9375    ,\n",
       "       0.94117647, 0.94444444, 0.94736842, 0.95      , 0.95238095])"
      ]
     },
     "execution_count": 14,
     "metadata": {},
     "output_type": "execute_result"
    }
   ],
   "source": [
    "#vectorize() ==> function object\n",
    "arr = np.array(list1)\n",
    "f = np.vectorize(lambda x : x/(x+1))\n",
    "f(arr)"
   ]
  },
  {
   "cell_type": "code",
   "execution_count": 15,
   "id": "4740dee3",
   "metadata": {},
   "outputs": [
    {
     "data": {
      "text/plain": [
       "[[[1, 2, 3], [4, 5, 6]], [[7, 8, 9], [10, 11, 12]]]"
      ]
     },
     "execution_count": 15,
     "metadata": {},
     "output_type": "execute_result"
    }
   ],
   "source": [
    "#3-dimensional array\n",
    "l = [[[1,2,3],[4,5,6]],\n",
    "    [[7,8,9],[10,11,12]]]\n",
    "l"
   ]
  },
  {
   "cell_type": "code",
   "execution_count": 16,
   "id": "b45a5d80",
   "metadata": {},
   "outputs": [
    {
     "data": {
      "text/plain": [
       "array([[[ 1,  2,  3],\n",
       "        [ 4,  5,  6]],\n",
       "\n",
       "       [[ 7,  8,  9],\n",
       "        [10, 11, 12]]])"
      ]
     },
     "execution_count": 16,
     "metadata": {},
     "output_type": "execute_result"
    }
   ],
   "source": [
    "a = np.array(l)\n",
    "a"
   ]
  },
  {
   "cell_type": "code",
   "execution_count": 17,
   "id": "e5233fd1",
   "metadata": {},
   "outputs": [
    {
     "data": {
      "text/plain": [
       "(2, 2, 3)"
      ]
     },
     "execution_count": 17,
     "metadata": {},
     "output_type": "execute_result"
    }
   ],
   "source": [
    "a.shape"
   ]
  },
  {
   "cell_type": "code",
   "execution_count": 18,
   "id": "63835aa6",
   "metadata": {},
   "outputs": [
    {
     "data": {
      "text/plain": [
       "3"
      ]
     },
     "execution_count": 18,
     "metadata": {},
     "output_type": "execute_result"
    }
   ],
   "source": [
    "a.ndim"
   ]
  },
  {
   "cell_type": "markdown",
   "id": "96cd0c6d",
   "metadata": {},
   "source": [
    "### random sub package"
   ]
  },
  {
   "cell_type": "code",
   "execution_count": 19,
   "id": "e011770a",
   "metadata": {},
   "outputs": [],
   "source": [
    "from numpy import random "
   ]
  },
  {
   "cell_type": "code",
   "execution_count": 39,
   "id": "b25bbe17",
   "metadata": {},
   "outputs": [
    {
     "name": "stdout",
     "output_type": "stream",
     "text": [
      "91\n",
      "0.6715908348433572\n"
     ]
    }
   ],
   "source": [
    "print(random.randint(1,100))#int value with in the given range\n",
    "print(random.rand())#float value b/w 0-1"
   ]
  },
  {
   "cell_type": "code",
   "execution_count": 45,
   "id": "f47799c7",
   "metadata": {},
   "outputs": [
    {
     "name": "stdout",
     "output_type": "stream",
     "text": [
      "[[63 81 13]\n",
      " [77 92 86]\n",
      " [66 44 11]]\n"
     ]
    }
   ],
   "source": [
    "#2-d array\n",
    "print(random.randint(100,size=(3,3)))"
   ]
  },
  {
   "cell_type": "code",
   "execution_count": 46,
   "id": "d8734b8f",
   "metadata": {},
   "outputs": [
    {
     "name": "stdout",
     "output_type": "stream",
     "text": [
      "[[[60 36]\n",
      "  [51 35]\n",
      "  [28 64]]\n",
      "\n",
      " [[ 6 18]\n",
      "  [ 6  5]\n",
      "  [67 28]]\n",
      "\n",
      " [[22 66]\n",
      "  [76 72]\n",
      "  [20 32]]]\n"
     ]
    }
   ],
   "source": [
    "#3-d array\n",
    "print(random.randint(100,size=(3,3,2)))"
   ]
  },
  {
   "cell_type": "code",
   "execution_count": 48,
   "id": "0deb0d69",
   "metadata": {},
   "outputs": [
    {
     "name": "stdout",
     "output_type": "stream",
     "text": [
      "0.45651132451173004\n",
      "[0.84148247 0.33420739 0.72840034]\n",
      "[[0.43704536 0.00301494 0.55930991 0.56374136]\n",
      " [0.59458652 0.24787614 0.57190315 0.66863233]\n",
      " [0.14300056 0.70332002 0.98353068 0.84626774]]\n",
      "[[[0.64507466 0.75093479]\n",
      "  [0.74592995 0.6771726 ]]\n",
      "\n",
      " [[0.51304947 0.04023267]\n",
      "  [0.8613061  0.18372287]]]\n"
     ]
    }
   ],
   "source": [
    "print(random.rand())\n",
    "print(random.rand(3))\n",
    "print(random.rand(3,4))\n",
    "print(random.rand(2,2,2))"
   ]
  },
  {
   "cell_type": "code",
   "execution_count": 49,
   "id": "99f87fae",
   "metadata": {},
   "outputs": [
    {
     "data": {
      "text/plain": [
       "array([[83, 46, 83],\n",
       "       [36,  4, 51],\n",
       "       [39, 18, 67]])"
      ]
     },
     "execution_count": 49,
     "metadata": {},
     "output_type": "execute_result"
    }
   ],
   "source": [
    "a = random.randint(100,size=(3,3))\n",
    "a"
   ]
  },
  {
   "cell_type": "code",
   "execution_count": 50,
   "id": "81bae96a",
   "metadata": {},
   "outputs": [
    {
     "data": {
      "text/plain": [
       "array([[83, 46, 83],\n",
       "       [36,  4, 51],\n",
       "       [39, 18, 67]])"
      ]
     },
     "execution_count": 50,
     "metadata": {},
     "output_type": "execute_result"
    }
   ],
   "source": [
    "a"
   ]
  },
  {
   "cell_type": "code",
   "execution_count": 60,
   "id": "9dd753f4",
   "metadata": {},
   "outputs": [
    {
     "data": {
      "text/plain": [
       "18"
      ]
     },
     "execution_count": 60,
     "metadata": {},
     "output_type": "execute_result"
    }
   ],
   "source": [
    "random.choice(a.flat)"
   ]
  },
  {
   "cell_type": "code",
   "execution_count": 72,
   "id": "f727e675",
   "metadata": {},
   "outputs": [
    {
     "data": {
      "text/plain": [
       "array([[3, 3, 4, 2],\n",
       "       [5, 1, 4, 1],\n",
       "       [3, 4, 5, 2],\n",
       "       [5, 3, 1, 2]])"
      ]
     },
     "execution_count": 72,
     "metadata": {},
     "output_type": "execute_result"
    }
   ],
   "source": [
    "#[1,2,3,4,5],(4,4)\n",
    "random.choice([1,2,3,4,5],size=(4,4))"
   ]
  },
  {
   "cell_type": "code",
   "execution_count": 73,
   "id": "a0098ba3",
   "metadata": {},
   "outputs": [],
   "source": [
    "#Accepting values using input()\n",
    "a1 = np.array([],dtype = \"int32\")"
   ]
  },
  {
   "cell_type": "code",
   "execution_count": 74,
   "id": "4f8fe6b9",
   "metadata": {},
   "outputs": [
    {
     "data": {
      "text/plain": [
       "array([], dtype=int32)"
      ]
     },
     "execution_count": 74,
     "metadata": {},
     "output_type": "execute_result"
    }
   ],
   "source": [
    "a1"
   ]
  },
  {
   "cell_type": "code",
   "execution_count": 76,
   "id": "b5623191",
   "metadata": {},
   "outputs": [
    {
     "name": "stdout",
     "output_type": "stream",
     "text": [
      "Enter a value12\n",
      "Enter a value12\n",
      "Enter a value23\n",
      "Enter a value34\n",
      "Enter a value45\n",
      "[12 12 12 23 34 45]\n"
     ]
    }
   ],
   "source": [
    "for i in range(1,6):\n",
    "    a1 = np.append(a1,int(input(\"Enter a value\")))\n",
    "print(a1)"
   ]
  },
  {
   "cell_type": "code",
   "execution_count": 77,
   "id": "91bc65d6",
   "metadata": {},
   "outputs": [],
   "source": [
    "#Free \n",
    "import pandas as pd"
   ]
  },
  {
   "cell_type": "markdown",
   "id": "b761cf99",
   "metadata": {},
   "source": [
    "### DataFrame ==> Rows and columns\n",
    "1. Using 2 dictionaries\n",
    "2. simple dictionary\n",
    "3. using Series"
   ]
  },
  {
   "cell_type": "code",
   "execution_count": 83,
   "id": "786001f0",
   "metadata": {},
   "outputs": [],
   "source": [
    "dict1 = {\"a\":1,\"b\":2,\"c\":3,\"d\":4,\"e\":5,\"f\":10}\n",
    "dict2 = {\"a\":5,\"b\":6,\"c\":7,\"d\":8,\"e\":9,\"h\":11}\n",
    "data = {\"First\":dict1,\"second\":dict2}"
   ]
  },
  {
   "cell_type": "code",
   "execution_count": 84,
   "id": "62513906",
   "metadata": {},
   "outputs": [
    {
     "data": {
      "text/html": [
       "<div>\n",
       "<style scoped>\n",
       "    .dataframe tbody tr th:only-of-type {\n",
       "        vertical-align: middle;\n",
       "    }\n",
       "\n",
       "    .dataframe tbody tr th {\n",
       "        vertical-align: top;\n",
       "    }\n",
       "\n",
       "    .dataframe thead th {\n",
       "        text-align: right;\n",
       "    }\n",
       "</style>\n",
       "<table border=\"1\" class=\"dataframe\">\n",
       "  <thead>\n",
       "    <tr style=\"text-align: right;\">\n",
       "      <th></th>\n",
       "      <th>First</th>\n",
       "      <th>second</th>\n",
       "    </tr>\n",
       "  </thead>\n",
       "  <tbody>\n",
       "    <tr>\n",
       "      <th>a</th>\n",
       "      <td>1.0</td>\n",
       "      <td>5.0</td>\n",
       "    </tr>\n",
       "    <tr>\n",
       "      <th>b</th>\n",
       "      <td>2.0</td>\n",
       "      <td>6.0</td>\n",
       "    </tr>\n",
       "    <tr>\n",
       "      <th>c</th>\n",
       "      <td>3.0</td>\n",
       "      <td>7.0</td>\n",
       "    </tr>\n",
       "    <tr>\n",
       "      <th>d</th>\n",
       "      <td>4.0</td>\n",
       "      <td>8.0</td>\n",
       "    </tr>\n",
       "    <tr>\n",
       "      <th>e</th>\n",
       "      <td>5.0</td>\n",
       "      <td>9.0</td>\n",
       "    </tr>\n",
       "    <tr>\n",
       "      <th>f</th>\n",
       "      <td>10.0</td>\n",
       "      <td>NaN</td>\n",
       "    </tr>\n",
       "    <tr>\n",
       "      <th>h</th>\n",
       "      <td>NaN</td>\n",
       "      <td>11.0</td>\n",
       "    </tr>\n",
       "  </tbody>\n",
       "</table>\n",
       "</div>"
      ],
      "text/plain": [
       "   First  second\n",
       "a    1.0     5.0\n",
       "b    2.0     6.0\n",
       "c    3.0     7.0\n",
       "d    4.0     8.0\n",
       "e    5.0     9.0\n",
       "f   10.0     NaN\n",
       "h    NaN    11.0"
      ]
     },
     "execution_count": 84,
     "metadata": {},
     "output_type": "execute_result"
    }
   ],
   "source": [
    "df = pd.DataFrame(data)\n",
    "df"
   ]
  },
  {
   "cell_type": "code",
   "execution_count": null,
   "id": "c9412502",
   "metadata": {},
   "outputs": [],
   "source": []
  }
 ],
 "metadata": {
  "kernelspec": {
   "display_name": "Python 3 (ipykernel)",
   "language": "python",
   "name": "python3"
  },
  "language_info": {
   "codemirror_mode": {
    "name": "ipython",
    "version": 3
   },
   "file_extension": ".py",
   "mimetype": "text/x-python",
   "name": "python",
   "nbconvert_exporter": "python",
   "pygments_lexer": "ipython3",
   "version": "3.9.13"
  }
 },
 "nbformat": 4,
 "nbformat_minor": 5
}
