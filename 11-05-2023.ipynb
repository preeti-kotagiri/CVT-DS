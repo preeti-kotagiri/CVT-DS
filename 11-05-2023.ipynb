{
 "cells": [
  {
   "cell_type": "markdown",
   "id": "c6abdbbb",
   "metadata": {},
   "source": [
    "### Today's topics\n",
    "1. loops ==> while & for\n",
    "2. Conditional control statements ==> if,else,elif\n",
    "3. Functions"
   ]
  },
  {
   "cell_type": "markdown",
   "id": "d42116a4",
   "metadata": {},
   "source": [
    "### conditional statement ==> checking for a condition\n",
    "### keywords : if,else,elif"
   ]
  },
  {
   "cell_type": "code",
   "execution_count": 1,
   "id": "ed46f211",
   "metadata": {},
   "outputs": [
    {
     "name": "stdout",
     "output_type": "stream",
     "text": [
      "Enter a number:12\n",
      "Even\n"
     ]
    }
   ],
   "source": [
    "#check whether the given number is even or odd\n",
    "x = int(input(\"Enter a number:\"))\n",
    "if x % 2 == 0:\n",
    "    print(\"Even\")\n",
    "else:\n",
    "    print(\"Odd\")"
   ]
  },
  {
   "cell_type": "code",
   "execution_count": 2,
   "id": "98ebbcdf",
   "metadata": {},
   "outputs": [
    {
     "name": "stdout",
     "output_type": "stream",
     "text": [
      "Enter a number:15\n",
      "Yes\n"
     ]
    }
   ],
   "source": [
    "#check whether the given number is divisible by 3 and 5\n",
    "x = int(input(\"Enter a number:\"))\n",
    "if x % 3 == 0 and x % 5 == 0:\n",
    "    print(\"Yes\")\n",
    "else:\n",
    "    print(\"No\")"
   ]
  },
  {
   "cell_type": "code",
   "execution_count": 3,
   "id": "c09f03d1",
   "metadata": {},
   "outputs": [
    {
     "name": "stdout",
     "output_type": "stream",
     "text": [
      "Enter a number:-3\n",
      "-ve\n"
     ]
    }
   ],
   "source": [
    "#check whether the given number 0 or +ve or -ve\n",
    "x = int(input(\"Enter a number:\"))\n",
    "if x == 0:\n",
    "    print(\"Zero\")\n",
    "elif x < 0:\n",
    "    print(\"-ve\")\n",
    "else:\n",
    "    print(\"+ve\")"
   ]
  },
  {
   "cell_type": "code",
   "execution_count": 5,
   "id": "f7502258",
   "metadata": {},
   "outputs": [
    {
     "name": "stdout",
     "output_type": "stream",
     "text": [
      "Enter marks1:60\n",
      "Enter marks2:60\n",
      "Enter marks3:60\n",
      "Grade B\n"
     ]
    }
   ],
   "source": [
    "#Accept three subjects marks of a students\n",
    "# avg >75 ==> A ,avg <75 & avg > 60 ==> B , avg<60 and avg > 45 ==> C else Fail\n",
    "m1 = int(input(\"Enter marks1:\"))\n",
    "m2 = int(input(\"Enter marks2:\"))\n",
    "m3 = int(input(\"Enter marks3:\"))\n",
    "avg = (m1+m2+m3)/3\n",
    "if avg > 75:\n",
    "    print(\"Grade A\")\n",
    "elif avg < 75 and avg >= 60:\n",
    "    print(\"Grade B\")\n",
    "elif avg < 60 and avg >= 45:\n",
    "    print(\"Grade C\")\n",
    "else:\n",
    "    print(\"Fail\")"
   ]
  },
  {
   "cell_type": "code",
   "execution_count": 7,
   "id": "a08d2eae",
   "metadata": {},
   "outputs": [
    {
     "name": "stdout",
     "output_type": "stream",
     "text": [
      "Enter value for x10\n",
      "Enter value for y20\n",
      "Enter value for z30\n",
      "Z is largest\n"
     ]
    }
   ],
   "source": [
    "#Find largest among three numbers\n",
    "x = int(input(\"Enter value for x\"))\n",
    "y = int(input(\"Enter value for y\"))\n",
    "z = int(input(\"Enter value for z\"))\n",
    "if x > y and x > z:\n",
    "    print(\"x is largest\")\n",
    "elif y > z:\n",
    "    print(\"y is largest\")\n",
    "else:\n",
    "    print(\"Z is largest\")"
   ]
  },
  {
   "cell_type": "code",
   "execution_count": 9,
   "id": "6576c568",
   "metadata": {},
   "outputs": [
    {
     "name": "stdout",
     "output_type": "stream",
     "text": [
      "Hello world\n",
      "Hello world\n",
      "Hello world\n",
      "Hello world\n",
      "Hello world\n"
     ]
    }
   ],
   "source": [
    "#loops ==> repeated tasks,iterations ==> while and for\n",
    "print(\"Hello world\")\n",
    "print(\"Hello world\")\n",
    "print(\"Hello world\")\n",
    "print(\"Hello world\")\n",
    "print(\"Hello world\")"
   ]
  },
  {
   "cell_type": "code",
   "execution_count": 10,
   "id": "0cacfa23",
   "metadata": {},
   "outputs": [
    {
     "name": "stdout",
     "output_type": "stream",
     "text": [
      "Hello world\n",
      "Hello world\n",
      "Hello world\n",
      "Hello world\n",
      "Hello world\n"
     ]
    }
   ],
   "source": [
    "i = 1\n",
    "while i <= 5:\n",
    "    print(\"Hello world\")\n",
    "    i += 1"
   ]
  },
  {
   "cell_type": "code",
   "execution_count": 12,
   "id": "c0f2e4d5",
   "metadata": {},
   "outputs": [
    {
     "name": "stdout",
     "output_type": "stream",
     "text": [
      "Hello world\n",
      "Hello world\n",
      "Hello world\n",
      "Hello world\n",
      "Hello world\n"
     ]
    }
   ],
   "source": [
    "for i in range(5):\n",
    "    print(\"Hello world\")"
   ]
  },
  {
   "cell_type": "code",
   "execution_count": 13,
   "id": "e1a8550a",
   "metadata": {},
   "outputs": [
    {
     "name": "stdout",
     "output_type": "stream",
     "text": [
      "2 4 6 8 10 12 14 16 18 20 "
     ]
    }
   ],
   "source": [
    "#display even numbers from 1-20 natural numbers\n",
    "i = 1\n",
    "while i <= 20:\n",
    "    if i % 2 == 0:\n",
    "        print(i,end=\" \")\n",
    "    i += 1"
   ]
  },
  {
   "cell_type": "code",
   "execution_count": 14,
   "id": "92f27baf",
   "metadata": {},
   "outputs": [
    {
     "name": "stdout",
     "output_type": "stream",
     "text": [
      "2 4 6 8 10 12 14 16 18 20 "
     ]
    }
   ],
   "source": [
    "for i in range(1,21):\n",
    "    if i % 2 == 0:\n",
    "        print(i,end = \" \")"
   ]
  },
  {
   "cell_type": "code",
   "execution_count": 16,
   "id": "ee2161d8",
   "metadata": {},
   "outputs": [
    {
     "name": "stdout",
     "output_type": "stream",
     "text": [
      "1 3 5 7 9 11 13 15 17 19 "
     ]
    }
   ],
   "source": [
    "for i in range(1,21,2):\n",
    "    print(i,end = \" \")"
   ]
  },
  {
   "cell_type": "code",
   "execution_count": 17,
   "id": "db8d89f4",
   "metadata": {},
   "outputs": [
    {
     "data": {
      "text/plain": [
       "[1, 2, 3, 4, 5, 6, 7, 8, 9, 10, 11, 12, 13, 14, 15, 16, 17, 18, 19, 20]"
      ]
     },
     "execution_count": 17,
     "metadata": {},
     "output_type": "execute_result"
    }
   ],
   "source": [
    "list1 = list(range(1,21))\n",
    "list1"
   ]
  },
  {
   "cell_type": "code",
   "execution_count": 18,
   "id": "84158be1",
   "metadata": {},
   "outputs": [
    {
     "name": "stdout",
     "output_type": "stream",
     "text": [
      "2 4 6 8 10 12 14 16 18 20 "
     ]
    }
   ],
   "source": [
    "for i in list1:\n",
    "    if i % 2 == 0:\n",
    "        print(i,end = \" \")"
   ]
  },
  {
   "cell_type": "code",
   "execution_count": 21,
   "id": "676a9be4",
   "metadata": {},
   "outputs": [
    {
     "name": "stdout",
     "output_type": "stream",
     "text": [
      "Enter a string: preeti\n",
      "e e i \n",
      " vowel count : 3\n"
     ]
    }
   ],
   "source": [
    "#Accept a string from the user and print the vowels from the string\n",
    "# preeti ==> e,e,i\n",
    "name = input(\"Enter a string: \")\n",
    "count = 0\n",
    "for i in name:\n",
    "    if i in \"AEIOUaeiou\":\n",
    "        print(i,end = \" \")\n",
    "        count += 1\n",
    "print(\"\\n vowel count :\",count)"
   ]
  },
  {
   "cell_type": "markdown",
   "id": "f53a6a73",
   "metadata": {},
   "source": [
    "1. Reversing a number ==> 1234 output = 4321\n",
    "2. finding sum of digits of a number\n",
    "3. Accept a numner and check whether it is palindrome ==> 121 ==> 121 = palindrome\n",
    "4. start and stop value print the alternate number ==> [500,520] ==> 500,502,504...\n",
    "5. 1-10 ==> 10,9,8,.....1"
   ]
  }
 ],
 "metadata": {
  "kernelspec": {
   "display_name": "Python 3 (ipykernel)",
   "language": "python",
   "name": "python3"
  },
  "language_info": {
   "codemirror_mode": {
    "name": "ipython",
    "version": 3
   },
   "file_extension": ".py",
   "mimetype": "text/x-python",
   "name": "python",
   "nbconvert_exporter": "python",
   "pygments_lexer": "ipython3",
   "version": "3.9.13"
  }
 },
 "nbformat": 4,
 "nbformat_minor": 5
}
