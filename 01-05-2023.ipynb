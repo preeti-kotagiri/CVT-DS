{
 "cells": [
  {
   "cell_type": "markdown",
   "id": "3dae2ac9",
   "metadata": {},
   "source": [
    "### Python  Topics:\n",
    "1. variable and Numbers\n",
    "2. Strings,List and Dictionaries\n",
    "3. for loop,if conditions\n",
    "4. Functions\n",
    "5. File handling\n",
    "6. Modules"
   ]
  },
  {
   "cell_type": "code",
   "execution_count": 3,
   "id": "ed08fd05",
   "metadata": {},
   "outputs": [
    {
     "name": "stdout",
     "output_type": "stream",
     "text": [
      "Hello World $ Hello World\n",
      "Hello World\n"
     ]
    }
   ],
   "source": [
    "#Built in function\n",
    "#print() ==> sep and end\n",
    "#sep default value is space\n",
    "#end default value is new line\n",
    "print(\"Hello World\",end=\" $ \")\n",
    "print(\"Hello World\")#end=\"\\n\"\n",
    "print(\"Hello World\")#end=\"\\n\""
   ]
  },
  {
   "cell_type": "code",
   "execution_count": 5,
   "id": "b245711e",
   "metadata": {},
   "outputs": [
    {
     "name": "stdout",
     "output_type": "stream",
     "text": [
      "10 ** 20 ** 30\n"
     ]
    }
   ],
   "source": [
    "print(10,20,30,sep=\" ** \")"
   ]
  },
  {
   "cell_type": "markdown",
   "id": "65143f8f",
   "metadata": {},
   "source": [
    "### Identifiers:\n",
    "#### Naming Rules:\n",
    "1. First character should be an alphabet \n",
    "2. cannot use keywords \n",
    "3. special characters are not allowed except _"
   ]
  },
  {
   "cell_type": "code",
   "execution_count": 6,
   "id": "4923daae",
   "metadata": {},
   "outputs": [
    {
     "name": "stdout",
     "output_type": "stream",
     "text": [
      "\n",
      "Here is a list of the Python keywords.  Enter any keyword to get more help.\n",
      "\n",
      "False               break               for                 not\n",
      "None                class               from                or\n",
      "True                continue            global              pass\n",
      "__peg_parser__      def                 if                  raise\n",
      "and                 del                 import              return\n",
      "as                  elif                in                  try\n",
      "assert              else                is                  while\n",
      "async               except              lambda              with\n",
      "await               finally             nonlocal            yield\n",
      "\n"
     ]
    }
   ],
   "source": [
    "help(\"keywords\")"
   ]
  },
  {
   "cell_type": "code",
   "execution_count": 7,
   "id": "5f4c7993",
   "metadata": {},
   "outputs": [
    {
     "name": "stdout",
     "output_type": "stream",
     "text": [
      "<class 'int'> <class 'float'> <class 'complex'>\n"
     ]
    }
   ],
   "source": [
    "x = 10\n",
    "y = 10.56\n",
    "z = 5 + 6j\n",
    "print(type(x),type(y),type(z))"
   ]
  },
  {
   "cell_type": "code",
   "execution_count": 8,
   "id": "d1da66ea",
   "metadata": {},
   "outputs": [
    {
     "name": "stdout",
     "output_type": "stream",
     "text": [
      "5.0\n",
      "6.0\n"
     ]
    }
   ],
   "source": [
    "#complex number properties ==> real and imag\n",
    "print(z.real)\n",
    "print(z.imag)"
   ]
  },
  {
   "cell_type": "code",
   "execution_count": 9,
   "id": "6c74bc60",
   "metadata": {},
   "outputs": [
    {
     "name": "stdout",
     "output_type": "stream",
     "text": [
      "1200.0 <class 'float'>\n"
     ]
    }
   ],
   "source": [
    "a = 12e2\n",
    "print(a,type(a))"
   ]
  },
  {
   "cell_type": "code",
   "execution_count": 11,
   "id": "1dca8a82",
   "metadata": {},
   "outputs": [
    {
     "name": "stdout",
     "output_type": "stream",
     "text": [
      "Enter b value:10\n",
      "10 <class 'int'>\n"
     ]
    }
   ],
   "source": [
    "#input() function ==> input(prompt)\n",
    "b = int(input(\"Enter b value:\"))\n",
    "print(b,type(b))"
   ]
  },
  {
   "cell_type": "code",
   "execution_count": null,
   "id": "75dbfda9",
   "metadata": {},
   "outputs": [],
   "source": []
  }
 ],
 "metadata": {
  "kernelspec": {
   "display_name": "Python 3 (ipykernel)",
   "language": "python",
   "name": "python3"
  },
  "language_info": {
   "codemirror_mode": {
    "name": "ipython",
    "version": 3
   },
   "file_extension": ".py",
   "mimetype": "text/x-python",
   "name": "python",
   "nbconvert_exporter": "python",
   "pygments_lexer": "ipython3",
   "version": "3.9.13"
  }
 },
 "nbformat": 4,
 "nbformat_minor": 5
}
