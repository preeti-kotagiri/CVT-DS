{
 "cells": [
  {
   "cell_type": "code",
   "execution_count": 1,
   "id": "a9949552",
   "metadata": {},
   "outputs": [],
   "source": [
    "#creating a file\n",
    "f = open(\"demo.txt\",\"x\")"
   ]
  },
  {
   "cell_type": "code",
   "execution_count": 2,
   "id": "85fa6982",
   "metadata": {},
   "outputs": [],
   "source": [
    "f.close()"
   ]
  },
  {
   "cell_type": "code",
   "execution_count": 5,
   "id": "4ad9b4e7",
   "metadata": {},
   "outputs": [],
   "source": [
    "f = open(\"demo.txt\",\"w\")\n",
    "\n",
    "data = '''line-number 1\n",
    "line-number 2\n",
    "line-number 3\n",
    "line-number 4\n",
    "line-number 5\n",
    "'''\n",
    "\n",
    "f.write(data)\n",
    "f.close()"
   ]
  },
  {
   "cell_type": "code",
   "execution_count": 6,
   "id": "4594f315",
   "metadata": {},
   "outputs": [],
   "source": [
    "f = open(\"demo.txt\",\"w\")\n",
    "\n",
    "data1 = '''line-number 6\n",
    "line-number 7\n",
    "line-number 8\n",
    "line-number 9\n",
    "line-number 10\n",
    "'''\n",
    "f.write(data1)\n",
    "f.close()"
   ]
  },
  {
   "cell_type": "code",
   "execution_count": 7,
   "id": "3657fd50",
   "metadata": {},
   "outputs": [],
   "source": [
    "f = open(\"demo.txt\",\"a\")\n",
    "\n",
    "data1 = '''line-number 11\n",
    "line-number 12\n",
    "'''\n",
    "f.write(data1)\n",
    "f.close()"
   ]
  },
  {
   "cell_type": "code",
   "execution_count": 8,
   "id": "5171be5e",
   "metadata": {},
   "outputs": [
    {
     "name": "stdout",
     "output_type": "stream",
     "text": [
      "line-number 6\n",
      "line-number 7\n",
      "line-number 8\n",
      "line-number 9\n",
      "line-number 10\n",
      "line-number 11\n",
      "line-number 12\n",
      "\n"
     ]
    }
   ],
   "source": [
    "#read() ==> reads entire data of the file\n",
    "f = open(\"demo.txt\",\"r\")\n",
    "content = f.read()\n",
    "print(content)"
   ]
  },
  {
   "cell_type": "code",
   "execution_count": 9,
   "id": "fe5a2cd7",
   "metadata": {},
   "outputs": [],
   "source": [
    "f.close()"
   ]
  },
  {
   "cell_type": "code",
   "execution_count": 11,
   "id": "49d3c03e",
   "metadata": {},
   "outputs": [
    {
     "name": "stdout",
     "output_type": "stream",
     "text": [
      "line-number 6\n",
      "\n"
     ]
    }
   ],
   "source": [
    "#first line from the file\n",
    "f = open(\"demo.txt\",\"r\")\n",
    "content = f.readline()\n",
    "print(content)\n",
    "f.close()"
   ]
  },
  {
   "cell_type": "code",
   "execution_count": 13,
   "id": "3a183776",
   "metadata": {},
   "outputs": [
    {
     "name": "stdout",
     "output_type": "stream",
     "text": [
      "line-number 10\n",
      "\n"
     ]
    }
   ],
   "source": [
    "#displaying specific line\n",
    "f = open(\"demo.txt\",\"r\")\n",
    "content = f.readlines()\n",
    "print(content[4])\n",
    "f.close()"
   ]
  },
  {
   "cell_type": "code",
   "execution_count": 14,
   "id": "25d7f179",
   "metadata": {},
   "outputs": [
    {
     "name": "stdout",
     "output_type": "stream",
     "text": [
      "line-\n"
     ]
    }
   ],
   "source": [
    "#specific number of characters\n",
    "f = open(\"demo.txt\",\"r\")\n",
    "content = f.read(5)\n",
    "print(content)\n",
    "f.close()"
   ]
  },
  {
   "cell_type": "markdown",
   "id": "14ca8879",
   "metadata": {},
   "source": [
    "### Question\n",
    "1. First create a file\n",
    "2. add some content into the file\n",
    "3. create another file and copy the content from prev file to this file."
   ]
  },
  {
   "cell_type": "code",
   "execution_count": 16,
   "id": "33d57dcd",
   "metadata": {},
   "outputs": [],
   "source": [
    "#renaming\n",
    "import os\n",
    "os.rename(\"demo.txt\",\"sample.txt\")"
   ]
  },
  {
   "cell_type": "code",
   "execution_count": 17,
   "id": "73dbce85",
   "metadata": {},
   "outputs": [],
   "source": [
    "#removing\n",
    "os.remove(\"sample.txt\")"
   ]
  },
  {
   "cell_type": "code",
   "execution_count": 18,
   "id": "df78dbf7",
   "metadata": {},
   "outputs": [
    {
     "name": "stdout",
     "output_type": "stream",
     "text": [
      "0 8 16 24 32 40 48 56 64 72 80 88 96 104 112 120 128 136 144 152 160 168 176 184 192 200 208 216 224 232 240 248 256 264 272 280 288 296 304 312 320 328 336 344 352 360 368 376 384 392 400 408 416 424 432 440 448 456 464 472 480 488 496 504 512 520 528 536 544 552 560 568 576 584 592 600 608 616 624 632 640 648 656 664 672 680 688 696 704 712 720 728 736 744 752 760 768 776 784 792 800 808 816 824 832 840 848 856 864 872 880 888 896 904 912 920 928 936 944 952 960 968 976 984 992 "
     ]
    }
   ],
   "source": [
    "for i in range(1000):\n",
    "    if i%8==0:\n",
    "        print(i,end=\" \")"
   ]
  },
  {
   "cell_type": "code",
   "execution_count": 19,
   "id": "ba72a941",
   "metadata": {},
   "outputs": [
    {
     "name": "stdout",
     "output_type": "stream",
     "text": [
      "[0, 8, 16, 24, 32, 40, 48, 56, 64, 72, 80, 88, 96, 104, 112, 120, 128, 136, 144, 152, 160, 168, 176, 184, 192, 200, 208, 216, 224, 232, 240, 248, 256, 264, 272, 280, 288, 296, 304, 312, 320, 328, 336, 344, 352, 360, 368, 376, 384, 392, 400, 408, 416, 424, 432, 440, 448, 456, 464, 472, 480, 488, 496, 504, 512, 520, 528, 536, 544, 552, 560, 568, 576, 584, 592, 600, 608, 616, 624, 632, 640, 648, 656, 664, 672, 680, 688, 696, 704, 712, 720, 728, 736, 744, 752, 760, 768, 776, 784, 792, 800, 808, 816, 824, 832, 840, 848, 856, 864, 872, 880, 888, 896, 904, 912, 920, 928, 936, 944, 952, 960, 968, 976, 984, 992]\n"
     ]
    }
   ],
   "source": [
    "print([i for i in range(1000) if i % 8 == 0])"
   ]
  },
  {
   "cell_type": "code",
   "execution_count": 20,
   "id": "1fa03ee4",
   "metadata": {},
   "outputs": [
    {
     "name": "stdout",
     "output_type": "stream",
     "text": [
      "6 16 26 36 46 56 60 61 62 63 64 65 66 67 68 69 76 86 96 106 116 126 136 146 156 160 161 162 163 164 165 166 167 168 169 176 186 196 206 216 226 236 246 256 260 261 262 263 264 265 266 267 268 269 276 286 296 306 316 326 336 346 356 360 361 362 363 364 365 366 367 368 369 376 386 396 406 416 426 436 446 456 460 461 462 463 464 465 466 467 468 469 476 486 496 506 516 526 536 546 556 560 561 562 563 564 565 566 567 568 569 576 586 596 600 601 602 603 604 605 606 607 608 609 610 611 612 613 614 615 616 617 618 619 620 621 622 623 624 625 626 627 628 629 630 631 632 633 634 635 636 637 638 639 640 641 642 643 644 645 646 647 648 649 650 651 652 653 654 655 656 657 658 659 660 661 662 663 664 665 666 667 668 669 670 671 672 673 674 675 676 677 678 679 680 681 682 683 684 685 686 687 688 689 690 691 692 693 694 695 696 697 698 699 706 716 726 736 746 756 760 761 762 763 764 765 766 767 768 769 776 786 796 806 816 826 836 846 856 860 861 862 863 864 865 866 867 868 869 876 886 896 906 916 926 936 946 956 960 961 962 963 964 965 966 967 968 969 976 986 996 "
     ]
    }
   ],
   "source": [
    "for i in range(1000):\n",
    "    s=str(i)\n",
    "    if '6' in s:\n",
    "        print(int(s),end =' ')"
   ]
  },
  {
   "cell_type": "code",
   "execution_count": 22,
   "id": "11cbc1fa",
   "metadata": {
    "scrolled": false
   },
   "outputs": [
    {
     "name": "stdout",
     "output_type": "stream",
     "text": [
      "[6, 16, 26, 36, 46, 56, 60, 61, 62, 63, 64, 65, 66, 67, 68, 69, 76, 86, 96, 106, 116, 126, 136, 146, 156, 160, 161, 162, 163, 164, 165, 166, 167, 168, 169, 176, 186, 196, 206, 216, 226, 236, 246, 256, 260, 261, 262, 263, 264, 265, 266, 267, 268, 269, 276, 286, 296, 306, 316, 326, 336, 346, 356, 360, 361, 362, 363, 364, 365, 366, 367, 368, 369, 376, 386, 396, 406, 416, 426, 436, 446, 456, 460, 461, 462, 463, 464, 465, 466, 467, 468, 469, 476, 486, 496, 506, 516, 526, 536, 546, 556, 560, 561, 562, 563, 564, 565, 566, 567, 568, 569, 576, 586, 596, 600, 601, 602, 603, 604, 605, 606, 607, 608, 609, 610, 611, 612, 613, 614, 615, 616, 617, 618, 619, 620, 621, 622, 623, 624, 625, 626, 627, 628, 629, 630, 631, 632, 633, 634, 635, 636, 637, 638, 639, 640, 641, 642, 643, 644, 645, 646, 647, 648, 649, 650, 651, 652, 653, 654, 655, 656, 657, 658, 659, 660, 661, 662, 663, 664, 665, 666, 667, 668, 669, 670, 671, 672, 673, 674, 675, 676, 677, 678, 679, 680, 681, 682, 683, 684, 685, 686, 687, 688, 689, 690, 691, 692, 693, 694, 695, 696, 697, 698, 699, 706, 716, 726, 736, 746, 756, 760, 761, 762, 763, 764, 765, 766, 767, 768, 769, 776, 786, 796, 806, 816, 826, 836, 846, 856, 860, 861, 862, 863, 864, 865, 866, 867, 868, 869, 876, 886, 896, 906, 916, 926, 936, 946, 956, 960, 961, 962, 963, 964, 965, 966, 967, 968, 969, 976, 986, 996]\n"
     ]
    }
   ],
   "source": [
    "list1 = [i for i in range(1000) if \"6\" in str(i)]\n",
    "print(list1)"
   ]
  },
  {
   "cell_type": "code",
   "execution_count": null,
   "id": "186b4375",
   "metadata": {},
   "outputs": [],
   "source": []
  },
  {
   "cell_type": "code",
   "execution_count": null,
   "id": "237f1e60",
   "metadata": {},
   "outputs": [],
   "source": []
  },
  {
   "cell_type": "code",
   "execution_count": null,
   "id": "9336dd41",
   "metadata": {},
   "outputs": [],
   "source": []
  },
  {
   "cell_type": "code",
   "execution_count": null,
   "id": "1b9e3703",
   "metadata": {},
   "outputs": [],
   "source": []
  },
  {
   "cell_type": "code",
   "execution_count": null,
   "id": "b396866f",
   "metadata": {},
   "outputs": [],
   "source": []
  }
 ],
 "metadata": {
  "kernelspec": {
   "display_name": "Python 3 (ipykernel)",
   "language": "python",
   "name": "python3"
  },
  "language_info": {
   "codemirror_mode": {
    "name": "ipython",
    "version": 3
   },
   "file_extension": ".py",
   "mimetype": "text/x-python",
   "name": "python",
   "nbconvert_exporter": "python",
   "pygments_lexer": "ipython3",
   "version": "3.9.13"
  }
 },
 "nbformat": 4,
 "nbformat_minor": 5
}
